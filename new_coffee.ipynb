{
 "cells": [
  {
   "cell_type": "code",
   "execution_count": 63,
   "metadata": {},
   "outputs": [],
   "source": [
    "import pandas as pd\n",
    "import numpy as np"
   ]
  },
  {
   "cell_type": "code",
   "execution_count": 64,
   "metadata": {},
   "outputs": [
    {
     "name": "stdout",
     "output_type": "stream",
     "text": [
      "Index(['transaction_date', 'transaction_time', 'customer_id', 'quantity',\n",
      "       'line_item_amount', 'unit_price', 'product_group', 'product_category',\n",
      "       'product_type', 'current_wholesale_price', 'customer_since',\n",
      "       'customer_birth_year', 'customer_generation'],\n",
      "      dtype='object')\n"
     ]
    }
   ],
   "source": [
    "df = pd.read_csv(\"coffee_shop_sample.csv\")\n",
    "print(df.columns)"
   ]
  },
  {
   "cell_type": "code",
   "execution_count": 65,
   "metadata": {},
   "outputs": [
    {
     "data": {
      "text/html": [
       "<div>\n",
       "<style scoped>\n",
       "    .dataframe tbody tr th:only-of-type {\n",
       "        vertical-align: middle;\n",
       "    }\n",
       "\n",
       "    .dataframe tbody tr th {\n",
       "        vertical-align: top;\n",
       "    }\n",
       "\n",
       "    .dataframe thead th {\n",
       "        text-align: right;\n",
       "    }\n",
       "</style>\n",
       "<table border=\"1\" class=\"dataframe\">\n",
       "  <thead>\n",
       "    <tr style=\"text-align: right;\">\n",
       "      <th></th>\n",
       "      <th>transaction_date</th>\n",
       "      <th>transaction_time</th>\n",
       "      <th>customer_id</th>\n",
       "      <th>quantity</th>\n",
       "      <th>line_item_amount</th>\n",
       "      <th>unit_price</th>\n",
       "      <th>product_group</th>\n",
       "      <th>product_category</th>\n",
       "      <th>product_type</th>\n",
       "      <th>current_wholesale_price</th>\n",
       "      <th>customer_since</th>\n",
       "      <th>customer_birth_year</th>\n",
       "      <th>customer_generation</th>\n",
       "    </tr>\n",
       "  </thead>\n",
       "  <tbody>\n",
       "    <tr>\n",
       "      <th>0</th>\n",
       "      <td>2019-04-18</td>\n",
       "      <td>06:33:22</td>\n",
       "      <td>NaN</td>\n",
       "      <td>1</td>\n",
       "      <td>2.50</td>\n",
       "      <td>2.50</td>\n",
       "      <td>Beverages</td>\n",
       "      <td>Tea</td>\n",
       "      <td>Brewed herbal tea</td>\n",
       "      <td>0.63</td>\n",
       "      <td>NaN</td>\n",
       "      <td>NaN</td>\n",
       "      <td>NaN</td>\n",
       "    </tr>\n",
       "    <tr>\n",
       "      <th>1</th>\n",
       "      <td>2019-04-13</td>\n",
       "      <td>07:17:16</td>\n",
       "      <td>5655.0</td>\n",
       "      <td>1</td>\n",
       "      <td>3.00</td>\n",
       "      <td>3.00</td>\n",
       "      <td>Beverages</td>\n",
       "      <td>Tea</td>\n",
       "      <td>Brewed Black tea</td>\n",
       "      <td>0.75</td>\n",
       "      <td>2018-06-15</td>\n",
       "      <td>1993.0</td>\n",
       "      <td>Younger Millennials</td>\n",
       "    </tr>\n",
       "    <tr>\n",
       "      <th>2</th>\n",
       "      <td>2019-04-06</td>\n",
       "      <td>16:27:42</td>\n",
       "      <td>599.0</td>\n",
       "      <td>1</td>\n",
       "      <td>2.50</td>\n",
       "      <td>2.50</td>\n",
       "      <td>Beverages</td>\n",
       "      <td>Tea</td>\n",
       "      <td>Brewed Chai tea</td>\n",
       "      <td>0.63</td>\n",
       "      <td>2018-09-12</td>\n",
       "      <td>1988.0</td>\n",
       "      <td>Older Millennials</td>\n",
       "    </tr>\n",
       "    <tr>\n",
       "      <th>3</th>\n",
       "      <td>2019-04-17</td>\n",
       "      <td>06:47:08</td>\n",
       "      <td>5572.0</td>\n",
       "      <td>2</td>\n",
       "      <td>6.00</td>\n",
       "      <td>3.00</td>\n",
       "      <td>Beverages</td>\n",
       "      <td>Tea</td>\n",
       "      <td>Brewed herbal tea</td>\n",
       "      <td>0.75</td>\n",
       "      <td>2017-04-06</td>\n",
       "      <td>1956.0</td>\n",
       "      <td>Baby Boomers</td>\n",
       "    </tr>\n",
       "    <tr>\n",
       "      <th>4</th>\n",
       "      <td>2019-04-06</td>\n",
       "      <td>17:33:47</td>\n",
       "      <td>5555.0</td>\n",
       "      <td>2</td>\n",
       "      <td>7.00</td>\n",
       "      <td>3.50</td>\n",
       "      <td>Beverages</td>\n",
       "      <td>Coffee</td>\n",
       "      <td>Organic brewed coffee</td>\n",
       "      <td>0.70</td>\n",
       "      <td>2019-03-19</td>\n",
       "      <td>1999.0</td>\n",
       "      <td>Gen Z</td>\n",
       "    </tr>\n",
       "    <tr>\n",
       "      <th>...</th>\n",
       "      <td>...</td>\n",
       "      <td>...</td>\n",
       "      <td>...</td>\n",
       "      <td>...</td>\n",
       "      <td>...</td>\n",
       "      <td>...</td>\n",
       "      <td>...</td>\n",
       "      <td>...</td>\n",
       "      <td>...</td>\n",
       "      <td>...</td>\n",
       "      <td>...</td>\n",
       "      <td>...</td>\n",
       "      <td>...</td>\n",
       "    </tr>\n",
       "    <tr>\n",
       "      <th>95</th>\n",
       "      <td>2019-04-09</td>\n",
       "      <td>19:58:13</td>\n",
       "      <td>642.0</td>\n",
       "      <td>1</td>\n",
       "      <td>3.75</td>\n",
       "      <td>3.75</td>\n",
       "      <td>Beverages</td>\n",
       "      <td>Drinking Chocolate</td>\n",
       "      <td>Hot chocolate</td>\n",
       "      <td>2.81</td>\n",
       "      <td>2018-12-10</td>\n",
       "      <td>1993.0</td>\n",
       "      <td>Younger Millennials</td>\n",
       "    </tr>\n",
       "    <tr>\n",
       "      <th>96</th>\n",
       "      <td>2019-04-09</td>\n",
       "      <td>08:08:00</td>\n",
       "      <td>NaN</td>\n",
       "      <td>1</td>\n",
       "      <td>4.38</td>\n",
       "      <td>4.38</td>\n",
       "      <td>Food</td>\n",
       "      <td>Bakery</td>\n",
       "      <td>Pastry</td>\n",
       "      <td>2.11</td>\n",
       "      <td>NaN</td>\n",
       "      <td>NaN</td>\n",
       "      <td>NaN</td>\n",
       "    </tr>\n",
       "    <tr>\n",
       "      <th>97</th>\n",
       "      <td>2019-04-25</td>\n",
       "      <td>16:59:43</td>\n",
       "      <td>5119.0</td>\n",
       "      <td>1</td>\n",
       "      <td>2.65</td>\n",
       "      <td>2.65</td>\n",
       "      <td>Food</td>\n",
       "      <td>Bakery</td>\n",
       "      <td>Scone</td>\n",
       "      <td>2.11</td>\n",
       "      <td>2017-03-31</td>\n",
       "      <td>1982.0</td>\n",
       "      <td>Older Millennials</td>\n",
       "    </tr>\n",
       "    <tr>\n",
       "      <th>98</th>\n",
       "      <td>2019-04-18</td>\n",
       "      <td>11:11:26</td>\n",
       "      <td>NaN</td>\n",
       "      <td>2</td>\n",
       "      <td>5.00</td>\n",
       "      <td>2.50</td>\n",
       "      <td>Beverages</td>\n",
       "      <td>Tea</td>\n",
       "      <td>Brewed herbal tea</td>\n",
       "      <td>0.63</td>\n",
       "      <td>NaN</td>\n",
       "      <td>NaN</td>\n",
       "      <td>NaN</td>\n",
       "    </tr>\n",
       "    <tr>\n",
       "      <th>99</th>\n",
       "      <td>2019-04-22</td>\n",
       "      <td>18:05:59</td>\n",
       "      <td>513.0</td>\n",
       "      <td>1</td>\n",
       "      <td>2.20</td>\n",
       "      <td>2.20</td>\n",
       "      <td>Beverages</td>\n",
       "      <td>Coffee</td>\n",
       "      <td>Organic brewed coffee</td>\n",
       "      <td>0.44</td>\n",
       "      <td>2018-03-18</td>\n",
       "      <td>1977.0</td>\n",
       "      <td>Gen X</td>\n",
       "    </tr>\n",
       "  </tbody>\n",
       "</table>\n",
       "<p>100 rows × 13 columns</p>\n",
       "</div>"
      ],
      "text/plain": [
       "   transaction_date transaction_time  customer_id  quantity  line_item_amount  \\\n",
       "0        2019-04-18         06:33:22          NaN         1              2.50   \n",
       "1        2019-04-13         07:17:16       5655.0         1              3.00   \n",
       "2        2019-04-06         16:27:42        599.0         1              2.50   \n",
       "3        2019-04-17         06:47:08       5572.0         2              6.00   \n",
       "4        2019-04-06         17:33:47       5555.0         2              7.00   \n",
       "..              ...              ...          ...       ...               ...   \n",
       "95       2019-04-09         19:58:13        642.0         1              3.75   \n",
       "96       2019-04-09         08:08:00          NaN         1              4.38   \n",
       "97       2019-04-25         16:59:43       5119.0         1              2.65   \n",
       "98       2019-04-18         11:11:26          NaN         2              5.00   \n",
       "99       2019-04-22         18:05:59        513.0         1              2.20   \n",
       "\n",
       "    unit_price product_group    product_category           product_type  \\\n",
       "0         2.50     Beverages                 Tea      Brewed herbal tea   \n",
       "1         3.00     Beverages                 Tea       Brewed Black tea   \n",
       "2         2.50     Beverages                 Tea        Brewed Chai tea   \n",
       "3         3.00     Beverages                 Tea      Brewed herbal tea   \n",
       "4         3.50     Beverages              Coffee  Organic brewed coffee   \n",
       "..         ...           ...                 ...                    ...   \n",
       "95        3.75     Beverages  Drinking Chocolate          Hot chocolate   \n",
       "96        4.38          Food              Bakery                 Pastry   \n",
       "97        2.65          Food              Bakery                  Scone   \n",
       "98        2.50     Beverages                 Tea      Brewed herbal tea   \n",
       "99        2.20     Beverages              Coffee  Organic brewed coffee   \n",
       "\n",
       "    current_wholesale_price customer_since  customer_birth_year  \\\n",
       "0                      0.63            NaN                  NaN   \n",
       "1                      0.75     2018-06-15               1993.0   \n",
       "2                      0.63     2018-09-12               1988.0   \n",
       "3                      0.75     2017-04-06               1956.0   \n",
       "4                      0.70     2019-03-19               1999.0   \n",
       "..                      ...            ...                  ...   \n",
       "95                     2.81     2018-12-10               1993.0   \n",
       "96                     2.11            NaN                  NaN   \n",
       "97                     2.11     2017-03-31               1982.0   \n",
       "98                     0.63            NaN                  NaN   \n",
       "99                     0.44     2018-03-18               1977.0   \n",
       "\n",
       "    customer_generation  \n",
       "0                   NaN  \n",
       "1   Younger Millennials  \n",
       "2     Older Millennials  \n",
       "3          Baby Boomers  \n",
       "4                 Gen Z  \n",
       "..                  ...  \n",
       "95  Younger Millennials  \n",
       "96                  NaN  \n",
       "97    Older Millennials  \n",
       "98                  NaN  \n",
       "99                Gen X  \n",
       "\n",
       "[100 rows x 13 columns]"
      ]
     },
     "execution_count": 65,
     "metadata": {},
     "output_type": "execute_result"
    }
   ],
   "source": [
    "df"
   ]
  },
  {
   "cell_type": "code",
   "execution_count": 66,
   "metadata": {},
   "outputs": [
    {
     "name": "stdout",
     "output_type": "stream",
     "text": [
      "3.7432999999999996\n"
     ]
    }
   ],
   "source": [
    "unit_mean = df[\"unit_price\"].mean()\n",
    "print(unit_mean)"
   ]
  },
  {
   "cell_type": "code",
   "execution_count": 67,
   "metadata": {},
   "outputs": [],
   "source": [
    "def get_locs(col, type):\n",
    "    count = 0\n",
    "    loc = []\n",
    "    for i in range(len(df)):\n",
    "        if df[col][i] == type:\n",
    "            count += 1\n",
    "            loc.append(i)\n",
    "    return loc\n",
    "\n"
   ]
  },
  {
   "cell_type": "code",
   "execution_count": 68,
   "metadata": {},
   "outputs": [],
   "source": [
    "def get_mean(col, type):\n",
    "    loc = get_locs(col= col,type=type)\n",
    "    mean = 0\n",
    "    total = 0\n",
    "    for i in loc:\n",
    "        total += df[\"unit_price\"][i]\n",
    "        mean = total/len(loc)\n",
    "    return mean\n",
    "\n"
   ]
  },
  {
   "cell_type": "code",
   "execution_count": 70,
   "metadata": {},
   "outputs": [
    {
     "name": "stdout",
     "output_type": "stream",
     "text": [
      "food average: 3.652\n",
      "beverage average: 3.1212499999999994\n"
     ]
    }
   ],
   "source": [
    "print(f\"food average: {get_mean(col='product_group', type='Food')}\")\n",
    "print(f\"beverage average: {get_mean(col='product_group', type='Beverages')}\")\n"
   ]
  },
  {
   "cell_type": "code",
   "execution_count": 71,
   "metadata": {},
   "outputs": [
    {
     "data": {
      "text/plain": [
       "{nan: np.float64(3.3933333333333326),\n",
       " 'Younger Millennials': np.float64(7.040909090909091),\n",
       " 'Older Millennials': np.float64(3.019230769230769),\n",
       " 'Baby Boomers': np.float64(3.1944444444444446),\n",
       " 'Gen Z': np.float64(3.35),\n",
       " 'Gen X': np.float64(3.64375)}"
      ]
     },
     "execution_count": 71,
     "metadata": {},
     "output_type": "execute_result"
    }
   ],
   "source": [
    "def generation_data(col):\n",
    "    unique_genertions = df[\"customer_generation\"].unique()\n",
    "    gen_data = {}\n",
    "    for generation in unique_genertions:\n",
    "        gen_data[generation] = []\n",
    "    for i in range(len(df)):\n",
    "        generation = df[\"customer_generation\"][i]\n",
    "        gen_data[generation].append(df[col][i])\n",
    "    gen_mean = {}\n",
    "    for generation in unique_genertions:\n",
    "        gen_mean[generation] = sum(gen_data[generation])/len(gen_data[generation])\n",
    "    gen_total = {}\n",
    "    for generation in unique_genertions:\n",
    "        gen_total[generation] = len(gen_data[generation])\n",
    "    \n",
    "    \n",
    "    return gen_data, gen_mean, gen_total\n",
    "\n",
    "gen_data, gen_mean, gen_total = generation_data(col=\"unit_price\")\n",
    "gen_mean"
   ]
  },
  {
   "cell_type": "code",
   "execution_count": 72,
   "metadata": {},
   "outputs": [
    {
     "data": {
      "text/plain": [
       "21.153846153846153"
      ]
     },
     "execution_count": 72,
     "metadata": {},
     "output_type": "execute_result"
    }
   ],
   "source": [
    "total_gen_z = gen_total.get(\"Gen Z\") \n",
    "total_nan = gen_total.get(np.nan)      \n",
    "\n",
    "gen_Z = (total_gen_z / (len(df) - total_nan))*100\n",
    "gen_Z"
   ]
  },
  {
   "cell_type": "code",
   "execution_count": 73,
   "metadata": {},
   "outputs": [
    {
     "data": {
      "text/plain": [
       "{nan: np.float64(3.3933333333333326),\n",
       " 'Younger Millennials': np.float64(7.040909090909091),\n",
       " 'Older Millennials': np.float64(3.019230769230769),\n",
       " 'Baby Boomers': np.float64(3.1944444444444446),\n",
       " 'Gen Z': np.float64(3.35),\n",
       " 'Gen X': np.float64(3.64375)}"
      ]
     },
     "execution_count": 73,
     "metadata": {},
     "output_type": "execute_result"
    }
   ],
   "source": [
    "def generation_data(col1,col2):\n",
    "    unique_genertions = df[col1].unique()\n",
    "    gen_data = {}\n",
    "    for generation in unique_genertions:\n",
    "        gen_data[generation] = []\n",
    "    for i in range(len(df)):\n",
    "        generation = df[col1][i]\n",
    "        gen_data[generation].append(df[col2][i])\n",
    "    gen_mean = {}\n",
    "    for generation in unique_genertions:\n",
    "        gen_mean[generation] = sum(gen_data[generation])/len(gen_data[generation])\n",
    "    gen_total = {}\n",
    "    for generation in unique_genertions:\n",
    "        gen_total[generation] = len(gen_data[generation])\n",
    "    return gen_data, gen_mean, gen_total\n",
    "\n",
    "gen_data, gen_mean, gen_total = generation_data(col1=\"customer_generation\", col2=\"unit_price\")\n",
    "gen_mean"
   ]
  },
  {
   "cell_type": "code",
   "execution_count": 74,
   "metadata": {},
   "outputs": [
    {
     "data": {
      "image/png": "[encoded data removed]",
      "text/plain": [
       "<Figure size 500x250 with 1 Axes>"
      ]
     },
     "metadata": {},
     "output_type": "display_data"
    }
   ],
   "source": [
    "import matplotlib.pyplot as plt\n",
    "import numpy as np\n",
    "\n",
    "colors = plt.cm.viridis(np.linspace(0, 1, len(gen_data)))\n",
    "\n",
    "heights = [gen_total[generation] * gen_mean[generation] for generation in gen_data]\n",
    "plt.figure(figsize=(5, 2.5))\n",
    "plt.bar(x=df[\"customer_generation\"].fillna(\"unknown\").unique(), height=heights, color=colors, alpha=0.7, edgecolor='black')\n",
    "plt.title(\"Generation vs Total Sales\")\n",
    "plt.xlabel(\"Generation\")\n",
    "plt.ylabel(\"Total Sales\")\n",
    "plt.xticks(rotation=45)\n",
    "plt.show()\n"
   ]
  },
  {
   "cell_type": "code",
   "execution_count": 75,
   "metadata": {},
   "outputs": [
    {
     "data": {
      "image/png": "[encoded data removed]",
      "text/plain": [
       "<Figure size 500x250 with 1 Axes>"
      ]
     },
     "metadata": {},
     "output_type": "display_data"
    }
   ],
   "source": [
    "prod_data, prod_mean, prod_total = generation_data(col1=\"product_category\", col2=\"unit_price\")\n",
    "heights_prod = [prod_total[category] * prod_mean[category] for category in prod_data]\n",
    "\n",
    "colors = plt.cm.viridis(np.linspace(0.6, 1, len(prod_data)))  \n",
    "\n",
    "plt.figure(figsize=(5, 2.5))\n",
    "plt.bar(x=df[\"product_category\"].fillna(\"unknown\").unique(), height=heights_prod, alpha=0.7, color=colors, edgecolor='black')\n",
    "plt.title(\"Product Category vs Total Sales\")\n",
    "plt.xlabel(\"Product Category\")\n",
    "plt.ylabel(\"Total Sales\")\n",
    "plt.xticks(rotation=45)\n",
    "plt.show()"
   ]
  }
 ],
 "metadata": {
  "kernelspec": {
   "display_name": "coffee",
   "language": "python",
   "name": "python3"
  },
  "language_info": {
   "codemirror_mode": {
    "name": "ipython",
    "version": 3
   },
   "file_extension": ".py",
   "mimetype": "text/x-python",
   "name": "python",
   "nbconvert_exporter": "python",
   "pygments_lexer": "ipython3",
   "version": "3.12.9"
  }
 },
 "nbformat": 4,
 "nbformat_minor": 2
}
